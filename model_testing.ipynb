{
 "cells": [
  {
   "cell_type": "code",
   "execution_count": 51,
   "id": "5c916202",
   "metadata": {},
   "outputs": [],
   "source": [
    "import pickle\n",
    "import joblib\n",
    "import pandas as pd\n",
    "import numpy as np\n",
    "from sklearn.preprocessing import LabelEncoder"
   ]
  },
  {
   "cell_type": "code",
   "execution_count": 39,
   "id": "2b542792",
   "metadata": {},
   "outputs": [],
   "source": [
    "with open(\"artifacts/label_encoders.pkl\", 'rb') as f:\n",
    "    feature_columns = pickle.load(f)"
   ]
  },
  {
   "cell_type": "code",
   "execution_count": 40,
   "id": "020b3b39",
   "metadata": {},
   "outputs": [],
   "source": [
    "kmeans_model = joblib.load(\"artifacts/kmeans_model.pkl\")"
   ]
  },
  {
   "cell_type": "code",
   "execution_count": 41,
   "id": "46224f7d",
   "metadata": {},
   "outputs": [],
   "source": [
    "with open(\"calibrated_model_cluster_01_CatBoost.pkl\", 'rb') as f:\n",
    "    calibrated_cat = pickle.load(f)"
   ]
  },
  {
   "cell_type": "code",
   "execution_count": 42,
   "id": "e562cded",
   "metadata": {},
   "outputs": [],
   "source": [
    "with open(\"calibrated_model_cluster_2_LR.pkl\", 'rb') as f:\n",
    "    calibrated_lr = pickle.load(f)"
   ]
  },
  {
   "cell_type": "code",
   "execution_count": 43,
   "id": "8ad5c18d",
   "metadata": {},
   "outputs": [
    {
     "name": "stdout",
     "output_type": "stream",
     "text": [
      "All artifacts loaded\n"
     ]
    }
   ],
   "source": [
    "with open(\"scaler_cluster_2.pkl\", 'rb') as f:\n",
    "    scaler_cluster_2 = pickle.load(f)\n",
    "\n",
    "print(\"All artifacts loaded\")"
   ]
  },
  {
   "cell_type": "code",
   "execution_count": 44,
   "id": "112ebc4e",
   "metadata": {},
   "outputs": [
    {
     "name": "stdout",
     "output_type": "stream",
     "text": [
      "(705, 21)\n"
     ]
    },
    {
     "data": {
      "text/html": [
       "<div>\n",
       "<style scoped>\n",
       "    .dataframe tbody tr th:only-of-type {\n",
       "        vertical-align: middle;\n",
       "    }\n",
       "\n",
       "    .dataframe tbody tr th {\n",
       "        vertical-align: top;\n",
       "    }\n",
       "\n",
       "    .dataframe thead th {\n",
       "        text-align: right;\n",
       "    }\n",
       "</style>\n",
       "<table border=\"1\" class=\"dataframe\">\n",
       "  <thead>\n",
       "    <tr style=\"text-align: right;\">\n",
       "      <th></th>\n",
       "      <th>customerID</th>\n",
       "      <th>gender</th>\n",
       "      <th>SeniorCitizen</th>\n",
       "      <th>Partner</th>\n",
       "      <th>Dependents</th>\n",
       "      <th>tenure</th>\n",
       "      <th>PhoneService</th>\n",
       "      <th>MultipleLines</th>\n",
       "      <th>InternetService</th>\n",
       "      <th>OnlineSecurity</th>\n",
       "      <th>...</th>\n",
       "      <th>DeviceProtection</th>\n",
       "      <th>TechSupport</th>\n",
       "      <th>StreamingTV</th>\n",
       "      <th>StreamingMovies</th>\n",
       "      <th>Contract</th>\n",
       "      <th>PaperlessBilling</th>\n",
       "      <th>PaymentMethod</th>\n",
       "      <th>MonthlyCharges</th>\n",
       "      <th>TotalCharges</th>\n",
       "      <th>Churn</th>\n",
       "    </tr>\n",
       "  </thead>\n",
       "  <tbody>\n",
       "    <tr>\n",
       "      <th>0</th>\n",
       "      <td>0979-PHULV</td>\n",
       "      <td>Male</td>\n",
       "      <td>0</td>\n",
       "      <td>Yes</td>\n",
       "      <td>Yes</td>\n",
       "      <td>69</td>\n",
       "      <td>Yes</td>\n",
       "      <td>Yes</td>\n",
       "      <td>Fiber optic</td>\n",
       "      <td>No</td>\n",
       "      <td>...</td>\n",
       "      <td>Yes</td>\n",
       "      <td>No</td>\n",
       "      <td>Yes</td>\n",
       "      <td>Yes</td>\n",
       "      <td>Month-to-month</td>\n",
       "      <td>Yes</td>\n",
       "      <td>Credit card (automatic)</td>\n",
       "      <td>99.45</td>\n",
       "      <td>7007.6</td>\n",
       "      <td>Yes</td>\n",
       "    </tr>\n",
       "    <tr>\n",
       "      <th>1</th>\n",
       "      <td>8390-FESFV</td>\n",
       "      <td>Female</td>\n",
       "      <td>0</td>\n",
       "      <td>No</td>\n",
       "      <td>No</td>\n",
       "      <td>62</td>\n",
       "      <td>Yes</td>\n",
       "      <td>Yes</td>\n",
       "      <td>DSL</td>\n",
       "      <td>No</td>\n",
       "      <td>...</td>\n",
       "      <td>Yes</td>\n",
       "      <td>Yes</td>\n",
       "      <td>Yes</td>\n",
       "      <td>Yes</td>\n",
       "      <td>Two year</td>\n",
       "      <td>No</td>\n",
       "      <td>Bank transfer (automatic)</td>\n",
       "      <td>84.50</td>\n",
       "      <td>5193.2</td>\n",
       "      <td>No</td>\n",
       "    </tr>\n",
       "  </tbody>\n",
       "</table>\n",
       "<p>2 rows × 21 columns</p>\n",
       "</div>"
      ],
      "text/plain": [
       "   customerID  gender  SeniorCitizen Partner Dependents  tenure PhoneService  \\\n",
       "0  0979-PHULV    Male              0     Yes        Yes      69          Yes   \n",
       "1  8390-FESFV  Female              0      No         No      62          Yes   \n",
       "\n",
       "  MultipleLines InternetService OnlineSecurity  ... DeviceProtection  \\\n",
       "0           Yes     Fiber optic             No  ...              Yes   \n",
       "1           Yes             DSL             No  ...              Yes   \n",
       "\n",
       "  TechSupport StreamingTV StreamingMovies        Contract PaperlessBilling  \\\n",
       "0          No         Yes             Yes  Month-to-month              Yes   \n",
       "1         Yes         Yes             Yes        Two year               No   \n",
       "\n",
       "               PaymentMethod MonthlyCharges  TotalCharges Churn  \n",
       "0    Credit card (automatic)          99.45        7007.6   Yes  \n",
       "1  Bank transfer (automatic)          84.50        5193.2    No  \n",
       "\n",
       "[2 rows x 21 columns]"
      ]
     },
     "execution_count": 44,
     "metadata": {},
     "output_type": "execute_result"
    }
   ],
   "source": [
    "val_df = pd.read_csv('validation.csv')\n",
    "print(val_df.shape)\n",
    "val_df.head(2)"
   ]
  },
  {
   "cell_type": "code",
   "execution_count": 45,
   "id": "b07ba2cc",
   "metadata": {},
   "outputs": [],
   "source": [
    "val_df['tenure_bucket'] = np.where(val_df['tenure'] <= 6, 1,\n",
    "                        np.where(val_df['tenure'] <= 20, 2,\n",
    "                        np.where(val_df['tenure'] <= 50, 3,\n",
    "                        4)))"
   ]
  },
  {
   "cell_type": "code",
   "execution_count": 46,
   "id": "42641c55",
   "metadata": {},
   "outputs": [
    {
     "name": "stdout",
     "output_type": "stream",
     "text": [
      "<class 'pandas.core.frame.DataFrame'>\n",
      "RangeIndex: 705 entries, 0 to 704\n",
      "Data columns (total 22 columns):\n",
      " #   Column            Non-Null Count  Dtype  \n",
      "---  ------            --------------  -----  \n",
      " 0   customerID        705 non-null    object \n",
      " 1   gender            705 non-null    object \n",
      " 2   SeniorCitizen     705 non-null    int64  \n",
      " 3   Partner           705 non-null    object \n",
      " 4   Dependents        705 non-null    object \n",
      " 5   tenure            705 non-null    int64  \n",
      " 6   PhoneService      705 non-null    object \n",
      " 7   MultipleLines     705 non-null    object \n",
      " 8   InternetService   705 non-null    object \n",
      " 9   OnlineSecurity    705 non-null    object \n",
      " 10  OnlineBackup      705 non-null    object \n",
      " 11  DeviceProtection  705 non-null    object \n",
      " 12  TechSupport       705 non-null    object \n",
      " 13  StreamingTV       705 non-null    object \n",
      " 14  StreamingMovies   705 non-null    object \n",
      " 15  Contract          705 non-null    object \n",
      " 16  PaperlessBilling  705 non-null    object \n",
      " 17  PaymentMethod     705 non-null    object \n",
      " 18  MonthlyCharges    705 non-null    float64\n",
      " 19  TotalCharges      705 non-null    object \n",
      " 20  Churn             705 non-null    object \n",
      " 21  tenure_bucket     705 non-null    int64  \n",
      "dtypes: float64(1), int64(3), object(18)\n",
      "memory usage: 121.3+ KB\n"
     ]
    }
   ],
   "source": [
    "val_df.info()"
   ]
  },
  {
   "cell_type": "code",
   "execution_count": 47,
   "id": "96cad387",
   "metadata": {},
   "outputs": [],
   "source": [
    "val_df['TotalCharges'] = np.where((val_df['TotalCharges'] == \" \") | (val_df['TotalCharges'].isna()), 0, val_df['TotalCharges'])\n",
    "val_df['TotalCharges'] = pd.to_numeric(val_df['TotalCharges'])"
   ]
  },
  {
   "cell_type": "code",
   "execution_count": 48,
   "id": "50e6fb53",
   "metadata": {},
   "outputs": [],
   "source": [
    "val_df_processed = val_df.drop(columns=['customerID', 'Churn', 'tenure'], errors='ignore')"
   ]
  },
  {
   "cell_type": "code",
   "execution_count": 49,
   "id": "9f724da2",
   "metadata": {},
   "outputs": [],
   "source": [
    "top_feature_names = ['Contract',\n",
    " 'TotalCharges',\n",
    " 'MonthlyCharges',\n",
    " 'OnlineSecurity',\n",
    " 'tenure_bucket',\n",
    " 'TechSupport',\n",
    " 'PaymentMethod',\n",
    " 'InternetService',\n",
    " 'MultipleLines',\n",
    " 'PaperlessBilling']"
   ]
  },
  {
   "cell_type": "code",
   "execution_count": 50,
   "id": "9afcaa62",
   "metadata": {},
   "outputs": [
    {
     "name": "stdout",
     "output_type": "stream",
     "text": [
      "<class 'pandas.core.frame.DataFrame'>\n",
      "RangeIndex: 705 entries, 0 to 704\n",
      "Data columns (total 10 columns):\n",
      " #   Column            Non-Null Count  Dtype  \n",
      "---  ------            --------------  -----  \n",
      " 0   Contract          705 non-null    object \n",
      " 1   TotalCharges      705 non-null    float64\n",
      " 2   MonthlyCharges    705 non-null    float64\n",
      " 3   OnlineSecurity    705 non-null    object \n",
      " 4   tenure_bucket     705 non-null    int64  \n",
      " 5   TechSupport       705 non-null    object \n",
      " 6   PaymentMethod     705 non-null    object \n",
      " 7   InternetService   705 non-null    object \n",
      " 8   MultipleLines     705 non-null    object \n",
      " 9   PaperlessBilling  705 non-null    object \n",
      "dtypes: float64(2), int64(1), object(7)\n",
      "memory usage: 55.2+ KB\n"
     ]
    }
   ],
   "source": [
    "val_df_processed = val_df_processed[top_feature_names]\n",
    "val_df_processed.info()"
   ]
  },
  {
   "cell_type": "code",
   "execution_count": 52,
   "id": "0d139f90",
   "metadata": {},
   "outputs": [],
   "source": [
    "val_df_dummy = val_df_processed.copy()\n",
    "cate_cols = val_df_dummy.select_dtypes(include='object').columns\n",
    "\n",
    "le = LabelEncoder()\n",
    "for col in cate_cols:\n",
    "    val_df_dummy[col] = le.fit_transform(val_df_dummy[col])"
   ]
  },
  {
   "cell_type": "code",
   "execution_count": 53,
   "id": "b1d81542",
   "metadata": {},
   "outputs": [
    {
     "data": {
      "text/html": [
       "<div>\n",
       "<style scoped>\n",
       "    .dataframe tbody tr th:only-of-type {\n",
       "        vertical-align: middle;\n",
       "    }\n",
       "\n",
       "    .dataframe tbody tr th {\n",
       "        vertical-align: top;\n",
       "    }\n",
       "\n",
       "    .dataframe thead th {\n",
       "        text-align: right;\n",
       "    }\n",
       "</style>\n",
       "<table border=\"1\" class=\"dataframe\">\n",
       "  <thead>\n",
       "    <tr style=\"text-align: right;\">\n",
       "      <th></th>\n",
       "      <th>Contract</th>\n",
       "      <th>TotalCharges</th>\n",
       "      <th>MonthlyCharges</th>\n",
       "      <th>OnlineSecurity</th>\n",
       "      <th>tenure_bucket</th>\n",
       "      <th>TechSupport</th>\n",
       "      <th>PaymentMethod</th>\n",
       "      <th>InternetService</th>\n",
       "      <th>MultipleLines</th>\n",
       "      <th>PaperlessBilling</th>\n",
       "    </tr>\n",
       "  </thead>\n",
       "  <tbody>\n",
       "    <tr>\n",
       "      <th>0</th>\n",
       "      <td>0</td>\n",
       "      <td>7007.6</td>\n",
       "      <td>99.45</td>\n",
       "      <td>0</td>\n",
       "      <td>4</td>\n",
       "      <td>0</td>\n",
       "      <td>1</td>\n",
       "      <td>1</td>\n",
       "      <td>2</td>\n",
       "      <td>1</td>\n",
       "    </tr>\n",
       "    <tr>\n",
       "      <th>1</th>\n",
       "      <td>2</td>\n",
       "      <td>5193.2</td>\n",
       "      <td>84.50</td>\n",
       "      <td>0</td>\n",
       "      <td>4</td>\n",
       "      <td>2</td>\n",
       "      <td>0</td>\n",
       "      <td>0</td>\n",
       "      <td>2</td>\n",
       "      <td>0</td>\n",
       "    </tr>\n",
       "  </tbody>\n",
       "</table>\n",
       "</div>"
      ],
      "text/plain": [
       "   Contract  TotalCharges  MonthlyCharges  OnlineSecurity  tenure_bucket  \\\n",
       "0         0        7007.6           99.45               0              4   \n",
       "1         2        5193.2           84.50               0              4   \n",
       "\n",
       "   TechSupport  PaymentMethod  InternetService  MultipleLines  \\\n",
       "0            0              1                1              2   \n",
       "1            2              0                0              2   \n",
       "\n",
       "   PaperlessBilling  \n",
       "0                 1  \n",
       "1                 0  "
      ]
     },
     "execution_count": 53,
     "metadata": {},
     "output_type": "execute_result"
    }
   ],
   "source": [
    "val_df_dummy.head(2)"
   ]
  },
  {
   "cell_type": "code",
   "execution_count": 54,
   "id": "6ca38b21",
   "metadata": {},
   "outputs": [
    {
     "data": {
      "text/plain": [
       "(705, 10)"
      ]
     },
     "execution_count": 54,
     "metadata": {},
     "output_type": "execute_result"
    }
   ],
   "source": [
    "val_df_dummy.shape"
   ]
  },
  {
   "cell_type": "code",
   "execution_count": 58,
   "id": "4bc5a5c3",
   "metadata": {},
   "outputs": [],
   "source": [
    "X_val_full = val_df_dummy.reindex(columns=top_feature_names, fill_value=0)"
   ]
  },
  {
   "cell_type": "code",
   "execution_count": 59,
   "id": "d9eff34f",
   "metadata": {},
   "outputs": [
    {
     "data": {
      "text/plain": [
       "(705, 10)"
      ]
     },
     "execution_count": 59,
     "metadata": {},
     "output_type": "execute_result"
    }
   ],
   "source": [
    "X_val_full.shape"
   ]
  },
  {
   "cell_type": "code",
   "execution_count": 60,
   "id": "6f790e01",
   "metadata": {},
   "outputs": [
    {
     "name": "stdout",
     "output_type": "stream",
     "text": [
      "Clusters assigned ✅\n"
     ]
    },
    {
     "name": "stderr",
     "output_type": "stream",
     "text": [
      "C:\\Users\\6623682\\AppData\\Local\\Packages\\PythonSoftwareFoundation.Python.3.11_qbz5n2kfra8p0\\LocalCache\\local-packages\\Python311\\site-packages\\sklearn\\utils\\validation.py:2732: UserWarning: X has feature names, but KMeans was fitted without feature names\n",
      "  warnings.warn(\n"
     ]
    }
   ],
   "source": [
    "val_df['cohort_cluster'] = kmeans_model.predict(X_val_full)\n",
    "print(\"Clusters assigned ✅\")"
   ]
  },
  {
   "cell_type": "code",
   "execution_count": 61,
   "id": "24a7f8c1",
   "metadata": {},
   "outputs": [],
   "source": [
    "probas = []\n",
    "\n",
    "X_val_scaled_cluster_2 = scaler_cluster_2.transform(X_val_full)\n",
    "\n",
    "for idx, row in X_val_full.iterrows():\n",
    "    cluster = val_df.loc[idx, 'cohort_cluster']\n",
    "    row_array = row.values.reshape(1, -1)\n",
    "\n",
    "    if cluster == 0:\n",
    "        proba = calibrated_cat.predict_proba(row_array)[0,1]\n",
    "    else:\n",
    "        row_scaled = X_val_scaled_cluster_2[idx, :].reshape(1, -1)\n",
    "        proba = calibrated_lr.predict_proba(row_scaled)[0,1]\n",
    "\n",
    "    probas.append(proba)\n",
    "\n",
    "val_df['pred_proba'] = probas"
   ]
  },
  {
   "cell_type": "code",
   "execution_count": 62,
   "id": "19005ee3",
   "metadata": {},
   "outputs": [],
   "source": [
    "val_df['risk_bucket'] = pd.qcut(val_df['pred_proba'], q=4, labels=['Low', 'Moderate', 'High', 'Very High'])"
   ]
  },
  {
   "cell_type": "code",
   "execution_count": 63,
   "id": "19c7602d",
   "metadata": {},
   "outputs": [
    {
     "name": "stdout",
     "output_type": "stream",
     "text": [
      "   customerID  cohort_cluster  pred_proba risk_bucket\n",
      "0  0979-PHULV               1    0.649964   Very High\n",
      "1  8390-FESFV               1    0.122277         Low\n",
      "2  1346-UFHAX               1    0.739628   Very High\n",
      "3  1741-WTPON               1    0.384944        High\n",
      "4  0410-IPFTY               1    0.572599        High\n",
      "Full val_df pipeline complete!\n"
     ]
    }
   ],
   "source": [
    "final_columns = ['customerID', 'cohort_cluster', 'pred_proba', 'risk_bucket']\n",
    "available_cols = [col for col in final_columns if col in val_df.columns]\n",
    "\n",
    "print(val_df[available_cols].head())\n",
    "\n",
    "print(\"Full val_df pipeline complete!\")"
   ]
  },
  {
   "cell_type": "code",
   "execution_count": 65,
   "id": "e6f2d5a3",
   "metadata": {},
   "outputs": [
    {
     "data": {
      "text/plain": [
       "risk_bucket\n",
       "Low          177\n",
       "Moderate     176\n",
       "High         176\n",
       "Very High    176\n",
       "Name: count, dtype: int64"
      ]
     },
     "execution_count": 65,
     "metadata": {},
     "output_type": "execute_result"
    }
   ],
   "source": [
    "val_df['risk_bucket'].value_counts()"
   ]
  },
  {
   "cell_type": "code",
   "execution_count": null,
   "id": "eef60161",
   "metadata": {},
   "outputs": [],
   "source": []
  }
 ],
 "metadata": {
  "kernelspec": {
   "display_name": "Python 3",
   "language": "python",
   "name": "python3"
  },
  "language_info": {
   "codemirror_mode": {
    "name": "ipython",
    "version": 3
   },
   "file_extension": ".py",
   "mimetype": "text/x-python",
   "name": "python",
   "nbconvert_exporter": "python",
   "pygments_lexer": "ipython3",
   "version": "3.11.9"
  }
 },
 "nbformat": 4,
 "nbformat_minor": 5
}
